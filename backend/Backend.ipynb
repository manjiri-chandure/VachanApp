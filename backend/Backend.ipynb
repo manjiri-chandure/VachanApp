{
 "cells": [
  {
   "cell_type": "code",
   "execution_count": 12,
   "id": "59902245-c7bb-4f7d-85a4-34b324c724aa",
   "metadata": {},
   "outputs": [
    {
     "name": "stdout",
     "output_type": "stream",
     "text": [
      "Requirement already satisfied: librosa in c:\\users\\sudip\\appdata\\roaming\\python\\python311\\site-packages (0.10.1)\n",
      "Requirement already satisfied: numpy in c:\\python311\\lib\\site-packages (1.26.4)\n",
      "Requirement already satisfied: fastdtw in c:\\python311\\lib\\site-packages (0.3.4)\n",
      "Requirement already satisfied: audioread>=2.1.9 in c:\\users\\sudip\\appdata\\roaming\\python\\python311\\site-packages (from librosa) (3.0.1)\n",
      "Requirement already satisfied: scipy>=1.2.0 in c:\\python311\\lib\\site-packages (from librosa) (1.12.0)\n",
      "Requirement already satisfied: scikit-learn>=0.20.0 in c:\\users\\sudip\\appdata\\roaming\\python\\python311\\site-packages (from librosa) (1.4.1.post1)\n",
      "Requirement already satisfied: joblib>=0.14 in c:\\python311\\lib\\site-packages (from librosa) (1.3.2)\n",
      "Requirement already satisfied: decorator>=4.3.0 in c:\\users\\sudip\\appdata\\roaming\\python\\python311\\site-packages (from librosa) (5.1.1)\n",
      "Requirement already satisfied: numba>=0.51.0 in c:\\python311\\lib\\site-packages (from librosa) (0.59.0)\n",
      "Requirement already satisfied: soundfile>=0.12.1 in c:\\users\\sudip\\appdata\\roaming\\python\\python311\\site-packages (from librosa) (0.12.1)\n",
      "Requirement already satisfied: pooch>=1.0 in c:\\users\\sudip\\appdata\\roaming\\python\\python311\\site-packages (from librosa) (1.8.1)\n",
      "Requirement already satisfied: soxr>=0.3.2 in c:\\python311\\lib\\site-packages (from librosa) (0.3.7)\n",
      "Requirement already satisfied: typing-extensions>=4.1.1 in c:\\users\\sudip\\appdata\\roaming\\python\\python311\\site-packages (from librosa) (4.9.0)\n",
      "Requirement already satisfied: lazy-loader>=0.1 in c:\\python311\\lib\\site-packages (from librosa) (0.3)\n",
      "Requirement already satisfied: msgpack>=1.0 in c:\\python311\\lib\\site-packages (from librosa) (1.0.5)\n",
      "Requirement already satisfied: llvmlite<0.43,>=0.42.0dev0 in c:\\python311\\lib\\site-packages (from numba>=0.51.0->librosa) (0.42.0)\n",
      "Requirement already satisfied: platformdirs>=2.5.0 in c:\\python311\\lib\\site-packages (from pooch>=1.0->librosa) (3.2.0)\n",
      "Requirement already satisfied: packaging>=20.0 in c:\\users\\sudip\\appdata\\roaming\\python\\python311\\site-packages (from pooch>=1.0->librosa) (23.2)\n",
      "Requirement already satisfied: requests>=2.19.0 in c:\\users\\sudip\\appdata\\roaming\\python\\python311\\site-packages (from pooch>=1.0->librosa) (2.31.0)\n",
      "Requirement already satisfied: threadpoolctl>=2.0.0 in c:\\python311\\lib\\site-packages (from scikit-learn>=0.20.0->librosa) (3.3.0)\n",
      "Requirement already satisfied: cffi>=1.0 in c:\\python311\\lib\\site-packages (from soundfile>=0.12.1->librosa) (1.15.1)\n",
      "Requirement already satisfied: pycparser in c:\\python311\\lib\\site-packages (from cffi>=1.0->soundfile>=0.12.1->librosa) (2.21)\n",
      "Requirement already satisfied: charset-normalizer<4,>=2 in c:\\python311\\lib\\site-packages (from requests>=2.19.0->pooch>=1.0->librosa) (3.1.0)\n",
      "Requirement already satisfied: idna<4,>=2.5 in c:\\python311\\lib\\site-packages (from requests>=2.19.0->pooch>=1.0->librosa) (3.4)\n",
      "Requirement already satisfied: urllib3<3,>=1.21.1 in c:\\python311\\lib\\site-packages (from requests>=2.19.0->pooch>=1.0->librosa) (1.26.15)\n",
      "Requirement already satisfied: certifi>=2017.4.17 in c:\\python311\\lib\\site-packages (from requests>=2.19.0->pooch>=1.0->librosa) (2022.12.7)\n"
     ]
    }
   ],
   "source": [
    "!pip install librosa numpy fastdtw\n"
   ]
  },
  {
   "cell_type": "code",
   "execution_count": 2,
   "id": "193dd9d3-d26f-47fe-ad44-4c934298b414",
   "metadata": {},
   "outputs": [],
   "source": [
    "import os\n",
    "import librosa\n",
    "import numpy as np\n",
    "\n",
    "\n",
    "HOP_LENGTH = 512  # Adjust based on speech characteristics (e.g., shorter for faster speech)\n",
    "N_FFT = 1024  # Experiment to find a balance between resolution and efficiency\n",
    "\n",
    "def extract_mfcc(audio_dir, target_dir):\n",
    "    # Create the target directory if it doesn't exist\n",
    "    if not os.path.exists(target_dir):\n",
    "        os.makedirs(target_dir)\n",
    "\n",
    "    # Iterate over each letter folder in the audio directory\n",
    "    for letter in os.listdir(audio_dir):\n",
    "        letter_dir = os.path.join(audio_dir, letter)\n",
    "        target_letter_dir = os.path.join(target_dir, letter)\n",
    "\n",
    "        # Create the target letter directory if it doesn't exist\n",
    "        if not os.path.exists(target_letter_dir):\n",
    "            os.makedirs(target_letter_dir)\n",
    "\n",
    "        # Iterate over each audio file in the letter directory\n",
    "        for audio_file in os.listdir(letter_dir):\n",
    "            audio_path = os.path.join(letter_dir, audio_file)\n",
    "            mfcc_path = os.path.join(target_letter_dir, audio_file.replace('.wav', '.npy'))\n",
    "\n",
    "            # Load the audio file\n",
    "            y, sr = librosa.load(audio_path, sr=16000)\n",
    "\n",
    "            # Extract MFCC features\n",
    "            mfcc = librosa.feature.mfcc(y=y, sr=sr, n_mfcc=13, hop_length=HOP_LENGTH, n_fft=N_FFT)\n",
    "\n",
    "            # Save the MFCC features as a numpy array\n",
    "            np.save(mfcc_path, mfcc)"
   ]
  },
  {
   "cell_type": "code",
   "execution_count": 3,
   "id": "514bb711-e269-426b-9de2-08db5d5bbdec",
   "metadata": {},
   "outputs": [
    {
     "name": "stderr",
     "output_type": "stream",
     "text": [
      "C:\\Users\\Sudip\\AppData\\Roaming\\Python\\Python311\\site-packages\\librosa\\core\\spectrum.py:257: UserWarning: n_fft=1024 is too large for input signal of length=186\n",
      "  warnings.warn(\n"
     ]
    },
    {
     "ename": "KeyboardInterrupt",
     "evalue": "",
     "output_type": "error",
     "traceback": [
      "\u001b[1;31m---------------------------------------------------------------------------\u001b[0m",
      "\u001b[1;31mKeyboardInterrupt\u001b[0m                         Traceback (most recent call last)",
      "Cell \u001b[1;32mIn[3], line 7\u001b[0m\n\u001b[0;32m      5\u001b[0m \u001b[38;5;66;03m# Ensure the output directory exists\u001b[39;00m\n\u001b[0;32m      6\u001b[0m os\u001b[38;5;241m.\u001b[39mmakedirs(target_dir, exist_ok\u001b[38;5;241m=\u001b[39m\u001b[38;5;28;01mTrue\u001b[39;00m)\n\u001b[1;32m----> 7\u001b[0m \u001b[43mextract_mfcc\u001b[49m\u001b[43m(\u001b[49m\u001b[43maudio_dir\u001b[49m\u001b[43m,\u001b[49m\u001b[43m \u001b[49m\u001b[43mtarget_dir\u001b[49m\u001b[43m)\u001b[49m\n",
      "Cell \u001b[1;32mIn[2], line 35\u001b[0m, in \u001b[0;36mextract_mfcc\u001b[1;34m(audio_dir, target_dir)\u001b[0m\n\u001b[0;32m     32\u001b[0m mfcc \u001b[38;5;241m=\u001b[39m librosa\u001b[38;5;241m.\u001b[39mfeature\u001b[38;5;241m.\u001b[39mmfcc(y\u001b[38;5;241m=\u001b[39my, sr\u001b[38;5;241m=\u001b[39msr, n_mfcc\u001b[38;5;241m=\u001b[39m\u001b[38;5;241m13\u001b[39m, hop_length\u001b[38;5;241m=\u001b[39mHOP_LENGTH, n_fft\u001b[38;5;241m=\u001b[39mN_FFT)\n\u001b[0;32m     34\u001b[0m \u001b[38;5;66;03m# Save the MFCC features as a numpy array\u001b[39;00m\n\u001b[1;32m---> 35\u001b[0m \u001b[43mnp\u001b[49m\u001b[38;5;241;43m.\u001b[39;49m\u001b[43msave\u001b[49m\u001b[43m(\u001b[49m\u001b[43mmfcc_path\u001b[49m\u001b[43m,\u001b[49m\u001b[43m \u001b[49m\u001b[43mmfcc\u001b[49m\u001b[43m)\u001b[49m\n",
      "File \u001b[1;32mC:\\Python311\\Lib\\site-packages\\numpy\\lib\\npyio.py:542\u001b[0m, in \u001b[0;36msave\u001b[1;34m(file, arr, allow_pickle, fix_imports)\u001b[0m\n\u001b[0;32m    540\u001b[0m     \u001b[38;5;28;01mif\u001b[39;00m \u001b[38;5;129;01mnot\u001b[39;00m file\u001b[38;5;241m.\u001b[39mendswith(\u001b[38;5;124m'\u001b[39m\u001b[38;5;124m.npy\u001b[39m\u001b[38;5;124m'\u001b[39m):\n\u001b[0;32m    541\u001b[0m         file \u001b[38;5;241m=\u001b[39m file \u001b[38;5;241m+\u001b[39m \u001b[38;5;124m'\u001b[39m\u001b[38;5;124m.npy\u001b[39m\u001b[38;5;124m'\u001b[39m\n\u001b[1;32m--> 542\u001b[0m     file_ctx \u001b[38;5;241m=\u001b[39m \u001b[38;5;28mopen\u001b[39m(file, \u001b[38;5;124m\"\u001b[39m\u001b[38;5;124mwb\u001b[39m\u001b[38;5;124m\"\u001b[39m)\n\u001b[0;32m    544\u001b[0m \u001b[38;5;28;01mwith\u001b[39;00m file_ctx \u001b[38;5;28;01mas\u001b[39;00m fid:\n\u001b[0;32m    545\u001b[0m     arr \u001b[38;5;241m=\u001b[39m np\u001b[38;5;241m.\u001b[39masanyarray(arr)\n",
      "\u001b[1;31mKeyboardInterrupt\u001b[0m: "
     ]
    }
   ],
   "source": [
    "# Define input and output directories\n",
    "audio_dir = r'F:\\Project\\NEW\\Normalized'\n",
    "target_dir = r'F:\\Project\\NEW\\mfcc2'\n",
    "\n",
    "# Ensure the output directory exists\n",
    "os.makedirs(target_dir, exist_ok=True)\n",
    "extract_mfcc(audio_dir, target_dir)"
   ]
  },
  {
   "cell_type": "code",
   "execution_count": 4,
   "id": "06b9c915-dcd0-4803-8705-a9b26a3a78f5",
   "metadata": {},
   "outputs": [
    {
     "name": "stdout",
     "output_type": "stream",
     "text": [
      "Letter: 01Label.npy\n",
      "MFCC Coefficients:\n"
     ]
    },
    {
     "ename": "NotADirectoryError",
     "evalue": "[WinError 267] The directory name is invalid: 'F:\\\\Project\\\\NEW\\\\mfcc2\\\\01Label.npy'",
     "output_type": "error",
     "traceback": [
      "\u001b[1;31m---------------------------------------------------------------------------\u001b[0m",
      "\u001b[1;31mNotADirectoryError\u001b[0m                        Traceback (most recent call last)",
      "Cell \u001b[1;32mIn[4], line 7\u001b[0m\n\u001b[0;32m      4\u001b[0m \u001b[38;5;28mprint\u001b[39m(\u001b[38;5;124m\"\u001b[39m\u001b[38;5;124mMFCC Coefficients:\u001b[39m\u001b[38;5;124m\"\u001b[39m)\n\u001b[0;32m      6\u001b[0m \u001b[38;5;66;03m# Iterate over each audio file in the letter directory\u001b[39;00m\n\u001b[1;32m----> 7\u001b[0m \u001b[38;5;28;01mfor\u001b[39;00m audio_file \u001b[38;5;129;01min\u001b[39;00m \u001b[43mos\u001b[49m\u001b[38;5;241;43m.\u001b[39;49m\u001b[43mlistdir\u001b[49m\u001b[43m(\u001b[49m\u001b[43mos\u001b[49m\u001b[38;5;241;43m.\u001b[39;49m\u001b[43mpath\u001b[49m\u001b[38;5;241;43m.\u001b[39;49m\u001b[43mjoin\u001b[49m\u001b[43m(\u001b[49m\u001b[43mtarget_dir\u001b[49m\u001b[43m,\u001b[49m\u001b[43m \u001b[49m\u001b[43mletter\u001b[49m\u001b[43m)\u001b[49m\u001b[43m)\u001b[49m:\n\u001b[0;32m      8\u001b[0m     mfcc_path \u001b[38;5;241m=\u001b[39m os\u001b[38;5;241m.\u001b[39mpath\u001b[38;5;241m.\u001b[39mjoin(target_dir, letter, audio_file)\n\u001b[0;32m     10\u001b[0m     \u001b[38;5;66;03m# Load the MFCC features from the numpy file\u001b[39;00m\n",
      "\u001b[1;31mNotADirectoryError\u001b[0m: [WinError 267] The directory name is invalid: 'F:\\\\Project\\\\NEW\\\\mfcc2\\\\01Label.npy'"
     ]
    }
   ],
   "source": [
    "# Iterate over each letter folder in the target directory\n",
    "for letter in os.listdir(target_dir):\n",
    "    print(f\"Letter: {letter}\")\n",
    "    print(\"MFCC Coefficients:\")\n",
    "    \n",
    "    # Iterate over each audio file in the letter directory\n",
    "    for audio_file in os.listdir(os.path.join(target_dir, letter)):\n",
    "        mfcc_path = os.path.join(target_dir, letter, audio_file)\n",
    "        \n",
    "        # Load the MFCC features from the numpy file\n",
    "        mfcc = np.load(mfcc_path)\n",
    "        \n",
    "        # Print the MFCC coefficients\n",
    "        print(f\"Audio File: {audio_file}\")\n",
    "        for i in range(mfcc.shape[0]):  # Iterate over each coefficient\n",
    "            print(f\"MFCC {i+1}: {mfcc[i]}\")\n",
    "        \n",
    "        print()  # Add a blank line for separation"
   ]
  },
  {
   "cell_type": "code",
   "execution_count": 21,
   "id": "a4159e6c-3850-450f-a106-a897839d1d36",
   "metadata": {},
   "outputs": [],
   "source": [
    "# def dtw_distance(seq1, seq2):\n",
    "#     if seq1.shape != seq2.shape:\n",
    "#         seq2 = np.resize(seq2, seq1.shape)\n",
    "\n",
    "#     max_len = max(len(seq1), len(seq2))\n",
    "#     seq1 = librosa.util.pad_center(seq1, max_len)\n",
    "#     seq2 = librosa.util.pad_center(seq2, max_len)\n",
    "\n",
    "#     distance = np.abs(seq1 - seq2)\n",
    "#     dtw_path = np.zeros((len(seq1), len(seq2)))\n",
    "#     dtw_path[0, 0] = distance[0, 0]\n",
    "\n",
    "#     for i in range(1, len(seq1)):\n",
    "#         dtw_path[i, 0] = dtw_path[i-1, 0] + distance[i, 0]\n",
    "\n",
    "#     for j in range(1, len(seq2)):\n",
    "#         dtw_path[0, j] = dtw_path[0, j-1] + distance[0, j]\n",
    "\n",
    "#     for i in range(1, len(seq1)):\n",
    "#         for j in range(1, len(seq2)):\n",
    "#             dtw_path[i, j] = distance[i, j] + min(dtw_path[i-1, j], dtw_path[i, j-1], dtw_path[i-1, j-1])\n",
    "\n",
    "#     return dtw_path[-1, -1]"
   ]
  },
  {
   "cell_type": "code",
   "execution_count": 50,
   "id": "4c3902cf-5891-4c1d-8cb2-44d6ced9ca16",
   "metadata": {},
   "outputs": [],
   "source": [
    "from fastdtw import fastdtw  # Using a fast DTW implementation for performance\n",
    "\n",
    "\n",
    "def dtw_distance(seq1, seq2):\n",
    "    try:\n",
    "        # Ensure consistent dimensions\n",
    "        seq1 = np.squeeze(seq1)\n",
    "        seq2 = np.squeeze(seq2)\n",
    "\n",
    "        # Pad or truncate sequences to ensure they have the same length along the second dimension\n",
    "        min_len = min(seq1.shape[1], seq2.shape[1])\n",
    "        seq1 = seq1[:, :min_len]\n",
    "        seq2 = seq2[:, :min_len]\n",
    "    # Custom implementation of the DTW algorithm\n",
    "        dp = np.zeros((len(seq1) + 1, len(seq2) + 1))\n",
    "        for i in range(len(seq1) + 1):\n",
    "            for j in range(len(seq2) + 1):\n",
    "                dp[i, j] = np.inf\n",
    "\n",
    "        dp[0, 0] = 0\n",
    "        for i in range(1, len(seq1) + 1):\n",
    "            for j in range(1, len(seq2) + 1):\n",
    "                cost = np.linalg.norm(seq1[:,i - 1] - seq2[:,j - 1])\n",
    "                dp[i, j] = cost + min(dp[i - 1, j], dp[i, j - 1], dp[i - 1, j - 1])\n",
    "\n",
    "        # Return the DTW distance\n",
    "        return dp[-1, -1]\n",
    "    \n",
    "        # # Compute DTW distance using a fast implementation\n",
    "        # distance, _ = fastdtw(seq1.T, seq2.T)  # Transpose the sequences before passing to fastdtw\n",
    "        # return distance\n",
    "\n",
    "    except Exception as e:\n",
    "        print(f\"Error computing DTW distance: {e}\")\n",
    "        return np.inf"
   ]
  },
  {
   "cell_type": "code",
   "execution_count": 51,
   "id": "eea00b24-c7c7-4d17-ba9d-1ce656f12f70",
   "metadata": {},
   "outputs": [],
   "source": [
    "# import os\n",
    "# import numpy as np\n",
    "\n",
    "# def compare_mfcc(input_mfcc, mfcc_features_dir):\n",
    "#     min_distance = np.iinfo(np.int32).max\n",
    "#     matching_letter = None\n",
    "\n",
    "#     for filename in os.listdir(mfcc_features_dir):\n",
    "#         if filename.endswith('.npy'):\n",
    "#             mfcc_path = os.path.join(mfcc_features_dir, filename)\n",
    "#             mfcc_data = np.load(mfcc_path)\n",
    "\n",
    "#             # Compute the DTW distance between the input MFCC sequence and the current MFCC sequence\n",
    "#             distance = dtw_distance(input_mfcc, mfcc_data)\n",
    "\n",
    "#             # Update the minimum distance and the matching letter if necessary\n",
    "#             if distance < min_distance:\n",
    "#                 min_distance = distance\n",
    "#                 matching_letter = filename[:-4]\n",
    "\n",
    "#     return matching_letter\n"
   ]
  },
  {
   "cell_type": "code",
   "execution_count": 52,
   "id": "e43c9e52-e596-48e3-b021-60ccc65c8c12",
   "metadata": {},
   "outputs": [],
   "source": [
    "def compare_mfcc(input_mfcc, mfcc_features_dir):\n",
    "    min_distance = np.inf  # Initialize with infinity for comparison\n",
    "    matching_letter = None\n",
    "    matching_mfcc_path = None\n",
    "\n",
    "    for root, _, files in os.walk(mfcc_features_dir):\n",
    "        for filename in files:\n",
    "            if filename.endswith('.npy'):\n",
    "                mfcc_path = os.path.join(root, filename)\n",
    "                mfcc_data = np.load(mfcc_path)\n",
    "\n",
    "                # Compute the DTW distance between the input MFCC sequence and the current MFCC sequence\n",
    "                distance = dtw_distance(input_mfcc, mfcc_data)\n",
    "\n",
    "                # Update the minimum distance and the matching letter if necessary\n",
    "                if distance < min_distance:\n",
    "                    min_distance = distance\n",
    "                    matching_letter = filename[:-4]\n",
    "                    matching_mfcc_path = mfcc_path\n",
    "\n",
    "    if matching_mfcc_path is None:\n",
    "        return None, None  # No matching MFCC file found\n",
    "\n",
    "    return matching_letter, os.path.dirname(matching_mfcc_path)\n"
   ]
  },
  {
   "cell_type": "code",
   "execution_count": 55,
   "id": "ad18a67f-fad2-49bb-91c7-befd234d6b89",
   "metadata": {},
   "outputs": [
    {
     "name": "stdout",
     "output_type": "stream",
     "text": [
      "Error computing DTW distance: tuple index out of range\n",
      "Error computing DTW distance: tuple index out of range\n",
      "Error computing DTW distance: tuple index out of range\n",
      "The closest matching letter is: 07Label\n",
      "The directory of the matching MFCC file is: F:\\Project\\NEW\\mfcc2\\भ\n"
     ]
    }
   ],
   "source": [
    "# Load the input MFCC sequence\n",
    "input_mfcc = np.load(r\"F:\\Project\\NEW\\mfcc features\\भ\\07Label.npy\")\n",
    "\n",
    "matching_result = compare_mfcc(input_mfcc, r'F:\\Project\\NEW\\mfcc2')\n",
    "\n",
    "# Check if a matching result is found\n",
    "if matching_result[0] is not None:\n",
    "    # Print the closest matching letter and its full path\n",
    "    print(f'The closest matching letter is: {matching_result[0]}')\n",
    "    print(f'The directory of the matching MFCC file is: {matching_result[1]}')\n",
    "else:\n",
    "    print(\"No matching MFCC file found.\")"
   ]
  },
  {
   "cell_type": "code",
   "execution_count": null,
   "id": "f7abf83e-0fa3-482d-b5b1-3d6176e1b868",
   "metadata": {},
   "outputs": [],
   "source": []
  },
  {
   "cell_type": "code",
   "execution_count": null,
   "id": "fe171aa8-b618-4988-bd60-0480112c368f",
   "metadata": {},
   "outputs": [],
   "source": []
  }
 ],
 "metadata": {
  "kernelspec": {
   "display_name": "Python 3 (ipykernel)",
   "language": "python",
   "name": "python3"
  },
  "language_info": {
   "codemirror_mode": {
    "name": "ipython",
    "version": 3
   },
   "file_extension": ".py",
   "mimetype": "text/x-python",
   "name": "python",
   "nbconvert_exporter": "python",
   "pygments_lexer": "ipython3",
   "version": "3.11.0"
  }
 },
 "nbformat": 4,
 "nbformat_minor": 5
}
